{
  "nbformat": 4,
  "nbformat_minor": 0,
  "metadata": {
    "colab": {
      "name": "LSTM Stock Predictor Trial 1.ipynb",
      "provenance": [],
      "collapsed_sections": []
    },
    "kernelspec": {
      "name": "python3",
      "display_name": "Python 3"
    }
  },
  "cells": [
    {
      "cell_type": "code",
      "metadata": {
        "id": "NCPs2IYM7WJS"
      },
      "source": [
        "# Goal: Predict the next day closing price of Apple stock using Long Short Term Memory (LSTM) with the closing price data from the past year."
      ],
      "execution_count": 1,
      "outputs": []
    },
    {
      "cell_type": "code",
      "metadata": {
        "id": "HDj7AwGu8XvG"
      },
      "source": [
        "# Import libraries\r\n",
        "import math\r\n",
        "import numpy as np\r\n",
        "import pandas as pd\r\n",
        "import pandas_datareader as web\r\n",
        "import matplotlib.pyplot as plt\r\n",
        "import warnings\r\n",
        "plt.style.use('fivethirtyeight')\r\n",
        "from pandas.core.common import SettingWithCopyWarning\r\n",
        "warnings.simplefilter(action=\"ignore\", category=SettingWithCopyWarning)\r\n",
        "from sklearn.preprocessing import MinMaxScaler\r\n",
        "from keras.models import Sequential\r\n",
        "from keras.layers import Dense, LSTM, Dropout"
      ],
      "execution_count": 2,
      "outputs": []
    },
    {
      "cell_type": "code",
      "metadata": {
        "id": "Yd_MxoHu9PL3"
      },
      "source": [
        "# Get Apple Stock Quote from past year\r\n",
        "df = web.DataReader('AAPL', data_source='yahoo', start='2020-03-13', end='2021-03-13')"
      ],
      "execution_count": 3,
      "outputs": []
    },
    {
      "cell_type": "code",
      "metadata": {
        "id": "-ZhIzH6qBkqV"
      },
      "source": [
        "# Create new df with only close column\r\n",
        "data = df.filter(['Close'])\r\n",
        "# Convert df to numpy array\r\n",
        "dataset = data.values\r\n",
        "# Get number of rows to train model on\r\n",
        "training_data_len = math.ceil( len(dataset) * .8)"
      ],
      "execution_count": 4,
      "outputs": []
    },
    {
      "cell_type": "code",
      "metadata": {
        "id": "0OrRab_aCYIw"
      },
      "source": [
        "# Scale data\r\n",
        "scalar = MinMaxScaler(feature_range=(0,1))\r\n",
        "scaled_data = scalar.fit_transform(dataset)"
      ],
      "execution_count": 5,
      "outputs": []
    },
    {
      "cell_type": "code",
      "metadata": {
        "id": "5bdpF2GSDS7K"
      },
      "source": [
        "# Create scaled training dataset\r\n",
        "train_data = scaled_data[0:training_data_len, :]\r\n",
        "# Split data into x_train and y_train datasets\r\n",
        "x_train = []\r\n",
        "y_train = []\r\n",
        "\r\n",
        "for i in range(60, len(train_data)):\r\n",
        "  x_train.append(train_data[i-60:i, 0])\r\n",
        "  y_train.append(train_data[i, 0])"
      ],
      "execution_count": 6,
      "outputs": []
    },
    {
      "cell_type": "code",
      "metadata": {
        "id": "N8MFYKltFE-l"
      },
      "source": [
        "# Convert x_train and y_train to numpy arrays\r\n",
        "x_train, y_train = np.array(x_train), np.array(y_train)"
      ],
      "execution_count": 7,
      "outputs": []
    },
    {
      "cell_type": "code",
      "metadata": {
        "colab": {
          "base_uri": "https://localhost:8080/"
        },
        "id": "Ph5LTVtaFbSd",
        "outputId": "dbba53f8-d841-4699-fcfb-446e34a02635"
      },
      "source": [
        "# Reshape x_train\r\n",
        "x_train = np.reshape(x_train, (x_train.shape[0], x_train.shape[1],1))\r\n",
        "x_train.shape"
      ],
      "execution_count": 8,
      "outputs": [
        {
          "output_type": "execute_result",
          "data": {
            "text/plain": [
              "(142, 60, 1)"
            ]
          },
          "metadata": {
            "tags": []
          },
          "execution_count": 8
        }
      ]
    },
    {
      "cell_type": "code",
      "metadata": {
        "id": "YzwPRqrLFp1W"
      },
      "source": [
        "# Build the LSTM model\r\n",
        "model = Sequential()\r\n",
        "model.add(LSTM(units=50,return_sequences=True,input_shape=(x_train.shape[1], 1)))\r\n",
        "model.add(Dropout(0.2))\r\n",
        "model.add(LSTM(units=50,return_sequences=True))\r\n",
        "model.add(Dropout(0.2))\r\n",
        "model.add(LSTM(units=50))\r\n",
        "model.add(Dropout(0.2))\r\n",
        "# Predict next closing value\r\n",
        "model.add(Dense(units=1))"
      ],
      "execution_count": 9,
      "outputs": []
    },
    {
      "cell_type": "code",
      "metadata": {
        "id": "HAvduYfeH62c"
      },
      "source": [
        "# Compile the model\r\n",
        "model.compile(optimizer='adam', loss='mean_squared_error')"
      ],
      "execution_count": 10,
      "outputs": []
    },
    {
      "cell_type": "code",
      "metadata": {
        "colab": {
          "base_uri": "https://localhost:8080/"
        },
        "id": "4sDz6QLqIRzA",
        "outputId": "fea6c6c5-d41d-493f-c6a6-e4d036d152a7"
      },
      "source": [
        "# Train the model\r\n",
        "model.fit(x_train, y_train, batch_size=32, epochs=100)"
      ],
      "execution_count": 11,
      "outputs": [
        {
          "output_type": "stream",
          "text": [
            "Epoch 1/100\n",
            "5/5 [==============================] - 5s 65ms/step - loss: 0.3986\n",
            "Epoch 2/100\n",
            "5/5 [==============================] - 0s 70ms/step - loss: 0.0643\n",
            "Epoch 3/100\n",
            "5/5 [==============================] - 0s 66ms/step - loss: 0.0486\n",
            "Epoch 4/100\n",
            "5/5 [==============================] - 0s 66ms/step - loss: 0.0268\n",
            "Epoch 5/100\n",
            "5/5 [==============================] - 0s 67ms/step - loss: 0.0244\n",
            "Epoch 6/100\n",
            "5/5 [==============================] - 0s 65ms/step - loss: 0.0149\n",
            "Epoch 7/100\n",
            "5/5 [==============================] - 0s 68ms/step - loss: 0.0166\n",
            "Epoch 8/100\n",
            "5/5 [==============================] - 0s 69ms/step - loss: 0.0121\n",
            "Epoch 9/100\n",
            "5/5 [==============================] - 0s 66ms/step - loss: 0.0115\n",
            "Epoch 10/100\n",
            "5/5 [==============================] - 0s 66ms/step - loss: 0.0126\n",
            "Epoch 11/100\n",
            "5/5 [==============================] - 0s 74ms/step - loss: 0.0089\n",
            "Epoch 12/100\n",
            "5/5 [==============================] - 0s 66ms/step - loss: 0.0109\n",
            "Epoch 13/100\n",
            "5/5 [==============================] - 0s 67ms/step - loss: 0.0090\n",
            "Epoch 14/100\n",
            "5/5 [==============================] - 0s 66ms/step - loss: 0.0117\n",
            "Epoch 15/100\n",
            "5/5 [==============================] - 0s 69ms/step - loss: 0.0101\n",
            "Epoch 16/100\n",
            "5/5 [==============================] - 0s 67ms/step - loss: 0.0098\n",
            "Epoch 17/100\n",
            "5/5 [==============================] - 0s 67ms/step - loss: 0.0086\n",
            "Epoch 18/100\n",
            "5/5 [==============================] - 0s 72ms/step - loss: 0.0105\n",
            "Epoch 19/100\n",
            "5/5 [==============================] - 0s 69ms/step - loss: 0.0088\n",
            "Epoch 20/100\n",
            "5/5 [==============================] - 0s 71ms/step - loss: 0.0131\n",
            "Epoch 21/100\n",
            "5/5 [==============================] - 0s 73ms/step - loss: 0.0088\n",
            "Epoch 22/100\n",
            "5/5 [==============================] - 0s 72ms/step - loss: 0.0107\n",
            "Epoch 23/100\n",
            "5/5 [==============================] - 0s 50ms/step - loss: 0.0107\n",
            "Epoch 24/100\n",
            "5/5 [==============================] - 0s 51ms/step - loss: 0.0088\n",
            "Epoch 25/100\n",
            "5/5 [==============================] - 0s 59ms/step - loss: 0.0089\n",
            "Epoch 26/100\n",
            "5/5 [==============================] - 0s 72ms/step - loss: 0.0075\n",
            "Epoch 27/100\n",
            "5/5 [==============================] - 0s 70ms/step - loss: 0.0105\n",
            "Epoch 28/100\n",
            "5/5 [==============================] - 0s 73ms/step - loss: 0.0083\n",
            "Epoch 29/100\n",
            "5/5 [==============================] - 0s 70ms/step - loss: 0.0097\n",
            "Epoch 30/100\n",
            "5/5 [==============================] - 0s 70ms/step - loss: 0.0079\n",
            "Epoch 31/100\n",
            "5/5 [==============================] - 0s 73ms/step - loss: 0.0089\n",
            "Epoch 32/100\n",
            "5/5 [==============================] - 0s 72ms/step - loss: 0.0111\n",
            "Epoch 33/100\n",
            "5/5 [==============================] - 0s 70ms/step - loss: 0.0094\n",
            "Epoch 34/100\n",
            "5/5 [==============================] - 0s 76ms/step - loss: 0.0103\n",
            "Epoch 35/100\n",
            "5/5 [==============================] - 0s 70ms/step - loss: 0.0093\n",
            "Epoch 36/100\n",
            "5/5 [==============================] - 0s 69ms/step - loss: 0.0078\n",
            "Epoch 37/100\n",
            "5/5 [==============================] - 0s 74ms/step - loss: 0.0091\n",
            "Epoch 38/100\n",
            "5/5 [==============================] - 0s 69ms/step - loss: 0.0080\n",
            "Epoch 39/100\n",
            "5/5 [==============================] - 0s 75ms/step - loss: 0.0070\n",
            "Epoch 40/100\n",
            "5/5 [==============================] - 0s 71ms/step - loss: 0.0069\n",
            "Epoch 41/100\n",
            "5/5 [==============================] - 0s 71ms/step - loss: 0.0101\n",
            "Epoch 42/100\n",
            "5/5 [==============================] - 0s 74ms/step - loss: 0.0079\n",
            "Epoch 43/100\n",
            "5/5 [==============================] - 0s 66ms/step - loss: 0.0088\n",
            "Epoch 44/100\n",
            "5/5 [==============================] - 0s 66ms/step - loss: 0.0094\n",
            "Epoch 45/100\n",
            "5/5 [==============================] - 0s 73ms/step - loss: 0.0083\n",
            "Epoch 46/100\n",
            "5/5 [==============================] - 0s 71ms/step - loss: 0.0078\n",
            "Epoch 47/100\n",
            "5/5 [==============================] - 0s 73ms/step - loss: 0.0087\n",
            "Epoch 48/100\n",
            "5/5 [==============================] - 0s 73ms/step - loss: 0.0069\n",
            "Epoch 49/100\n",
            "5/5 [==============================] - 0s 69ms/step - loss: 0.0092\n",
            "Epoch 50/100\n",
            "5/5 [==============================] - 0s 70ms/step - loss: 0.0092\n",
            "Epoch 51/100\n",
            "5/5 [==============================] - 0s 57ms/step - loss: 0.0077\n",
            "Epoch 52/100\n",
            "5/5 [==============================] - 0s 69ms/step - loss: 0.0074\n",
            "Epoch 53/100\n",
            "5/5 [==============================] - 0s 74ms/step - loss: 0.0062\n",
            "Epoch 54/100\n",
            "5/5 [==============================] - 0s 74ms/step - loss: 0.0086\n",
            "Epoch 55/100\n",
            "5/5 [==============================] - 0s 72ms/step - loss: 0.0054\n",
            "Epoch 56/100\n",
            "5/5 [==============================] - 0s 75ms/step - loss: 0.0068\n",
            "Epoch 57/100\n",
            "5/5 [==============================] - 0s 72ms/step - loss: 0.0076\n",
            "Epoch 58/100\n",
            "5/5 [==============================] - 0s 51ms/step - loss: 0.0079\n",
            "Epoch 59/100\n",
            "5/5 [==============================] - 0s 72ms/step - loss: 0.0080\n",
            "Epoch 60/100\n",
            "5/5 [==============================] - 0s 51ms/step - loss: 0.0077\n",
            "Epoch 61/100\n",
            "5/5 [==============================] - 0s 50ms/step - loss: 0.0082\n",
            "Epoch 62/100\n",
            "5/5 [==============================] - 0s 50ms/step - loss: 0.0070\n",
            "Epoch 63/100\n",
            "5/5 [==============================] - 0s 51ms/step - loss: 0.0077\n",
            "Epoch 64/100\n",
            "5/5 [==============================] - 0s 56ms/step - loss: 0.0072\n",
            "Epoch 65/100\n",
            "5/5 [==============================] - 0s 73ms/step - loss: 0.0066\n",
            "Epoch 66/100\n",
            "5/5 [==============================] - 0s 73ms/step - loss: 0.0087\n",
            "Epoch 67/100\n",
            "5/5 [==============================] - 0s 73ms/step - loss: 0.0072\n",
            "Epoch 68/100\n",
            "5/5 [==============================] - 0s 73ms/step - loss: 0.0063\n",
            "Epoch 69/100\n",
            "5/5 [==============================] - 0s 75ms/step - loss: 0.0075\n",
            "Epoch 70/100\n",
            "5/5 [==============================] - 0s 73ms/step - loss: 0.0081\n",
            "Epoch 71/100\n",
            "5/5 [==============================] - 0s 74ms/step - loss: 0.0072\n",
            "Epoch 72/100\n",
            "5/5 [==============================] - 0s 73ms/step - loss: 0.0065\n",
            "Epoch 73/100\n",
            "5/5 [==============================] - 0s 70ms/step - loss: 0.0075\n",
            "Epoch 74/100\n",
            "5/5 [==============================] - 0s 74ms/step - loss: 0.0073\n",
            "Epoch 75/100\n",
            "5/5 [==============================] - 0s 74ms/step - loss: 0.0062\n",
            "Epoch 76/100\n",
            "5/5 [==============================] - 0s 71ms/step - loss: 0.0087\n",
            "Epoch 77/100\n",
            "5/5 [==============================] - 0s 73ms/step - loss: 0.0072\n",
            "Epoch 78/100\n",
            "5/5 [==============================] - 0s 72ms/step - loss: 0.0062\n",
            "Epoch 79/100\n",
            "5/5 [==============================] - 0s 72ms/step - loss: 0.0058\n",
            "Epoch 80/100\n",
            "5/5 [==============================] - 0s 71ms/step - loss: 0.0077\n",
            "Epoch 81/100\n",
            "5/5 [==============================] - 0s 75ms/step - loss: 0.0058\n",
            "Epoch 82/100\n",
            "5/5 [==============================] - 0s 72ms/step - loss: 0.0082\n",
            "Epoch 83/100\n",
            "5/5 [==============================] - 0s 72ms/step - loss: 0.0080\n",
            "Epoch 84/100\n",
            "5/5 [==============================] - 0s 70ms/step - loss: 0.0079\n",
            "Epoch 85/100\n",
            "5/5 [==============================] - 0s 75ms/step - loss: 0.0064\n",
            "Epoch 86/100\n",
            "5/5 [==============================] - 0s 71ms/step - loss: 0.0078\n",
            "Epoch 87/100\n",
            "5/5 [==============================] - 0s 72ms/step - loss: 0.0079\n",
            "Epoch 88/100\n",
            "5/5 [==============================] - 0s 73ms/step - loss: 0.0075\n",
            "Epoch 89/100\n",
            "5/5 [==============================] - 0s 72ms/step - loss: 0.0061\n",
            "Epoch 90/100\n",
            "5/5 [==============================] - 0s 72ms/step - loss: 0.0066\n",
            "Epoch 91/100\n",
            "5/5 [==============================] - 0s 75ms/step - loss: 0.0071\n",
            "Epoch 92/100\n",
            "5/5 [==============================] - 0s 73ms/step - loss: 0.0054\n",
            "Epoch 93/100\n",
            "5/5 [==============================] - 0s 71ms/step - loss: 0.0056\n",
            "Epoch 94/100\n",
            "5/5 [==============================] - 0s 70ms/step - loss: 0.0078\n",
            "Epoch 95/100\n",
            "5/5 [==============================] - 0s 67ms/step - loss: 0.0073\n",
            "Epoch 96/100\n",
            "5/5 [==============================] - 0s 51ms/step - loss: 0.0055\n",
            "Epoch 97/100\n",
            "5/5 [==============================] - 0s 51ms/step - loss: 0.0062\n",
            "Epoch 98/100\n",
            "5/5 [==============================] - 0s 75ms/step - loss: 0.0070\n",
            "Epoch 99/100\n",
            "5/5 [==============================] - 0s 73ms/step - loss: 0.0085\n",
            "Epoch 100/100\n",
            "5/5 [==============================] - 0s 74ms/step - loss: 0.0067\n"
          ],
          "name": "stdout"
        },
        {
          "output_type": "execute_result",
          "data": {
            "text/plain": [
              "<tensorflow.python.keras.callbacks.History at 0x7fd3a605dfd0>"
            ]
          },
          "metadata": {
            "tags": []
          },
          "execution_count": 11
        }
      ]
    },
    {
      "cell_type": "code",
      "metadata": {
        "id": "pvyswu2ijZKk"
      },
      "source": [
        "# Create testing dataset\r\n",
        "test_data = scaled_data[training_data_len - 60: , :]\r\n",
        "# Create datasets x_test and y_test\r\n",
        "x_test = []\r\n",
        "y_test = dataset[training_data_len:,:]\r\n",
        "for i in range(60, len(test_data)):\r\n",
        "  x_test.append(test_data[i-60:i, 0])"
      ],
      "execution_count": 12,
      "outputs": []
    },
    {
      "cell_type": "code",
      "metadata": {
        "id": "WpFCXp1JFsEs"
      },
      "source": [
        "# Convert data to a numpy array\r\n",
        "x_test = np.array(x_test)"
      ],
      "execution_count": 13,
      "outputs": []
    },
    {
      "cell_type": "code",
      "metadata": {
        "id": "Tzr5jv4GlS4X"
      },
      "source": [
        "# Reshape the data\r\n",
        "x_test = np.reshape(x_test, (x_test.shape[0], x_test.shape[1],1))"
      ],
      "execution_count": 14,
      "outputs": []
    },
    {
      "cell_type": "code",
      "metadata": {
        "id": "VFGbGkPUlpHR"
      },
      "source": [
        "# Get models predicted price values\r\n",
        "predictions = model.predict(x_test)\r\n",
        "predictions = scalar.inverse_transform(predictions)"
      ],
      "execution_count": 15,
      "outputs": []
    },
    {
      "cell_type": "code",
      "metadata": {
        "colab": {
          "base_uri": "https://localhost:8080/"
        },
        "id": "KKOYpRldmiqc",
        "outputId": "163acd6d-5d44-4d6d-b5be-8225e7f2234a"
      },
      "source": [
        "# Get the root mean squared error (RMSE)\r\n",
        "rmse = np.sqrt(np.mean(((predictions- y_test)**2)))\r\n",
        "rmse"
      ],
      "execution_count": 16,
      "outputs": [
        {
          "output_type": "execute_result",
          "data": {
            "text/plain": [
              "7.372752071376083"
            ]
          },
          "metadata": {
            "tags": []
          },
          "execution_count": 16
        }
      ]
    },
    {
      "cell_type": "code",
      "metadata": {
        "colab": {
          "base_uri": "https://localhost:8080/",
          "height": 558
        },
        "id": "WHpmBBXDnIgm",
        "outputId": "ddf913fd-ac9b-4b9f-d3ab-3b05f29018dd"
      },
      "source": [
        "# Plot the data\r\n",
        "train = data[:training_data_len]\r\n",
        "valid = data[training_data_len:]\r\n",
        "valid['Predictions'] = predictions\r\n",
        "# Visualize the data\r\n",
        "plt.figure(figsize=(16,8))\r\n",
        "plt.title('Model')\r\n",
        "plt.xlabel('Date', fontsize=18)\r\n",
        "plt.ylabel('Close Price USD ($)', fontsize=18)\r\n",
        "plt.plot(train['Close'])\r\n",
        "plt.plot(valid[['Close','Predictions']])\r\n",
        "plt.legend(['Train','Val','Predictions'], loc = 'lower right')\r\n",
        "plt.show()"
      ],
      "execution_count": 17,
      "outputs": [
        {
          "output_type": "display_data",
          "data": {
            "image/png": "[encoded data removed]",
            "text/plain": [
              "<Figure size 1152x576 with 1 Axes>"
            ]
          },
          "metadata": {
            "tags": []
          }
        }
      ]
    },
    {
      "cell_type": "code",
      "metadata": {
        "colab": {
          "base_uri": "https://localhost:8080/"
        },
        "id": "3FPk9nvspUJa",
        "outputId": "6fd8f370-9155-42a0-bb63-16320f628232"
      },
      "source": [
        "# Get quote again to predict next days price\r\n",
        "apple_quote = web.DataReader('AAPL', data_source='yahoo', start='2020-03-13', end='2021-03-13')\r\n",
        "new_df = apple_quote.filter(['Close'])\r\n",
        "last_60_days = new_df[-60:].values\r\n",
        "\r\n",
        "# Scale data to be values between 0 and 1\r\n",
        "last_60_days_scaled = scalar.transform(last_60_days)\r\n",
        "\r\n",
        "# Make new X_test dataset\r\n",
        "X_test = []\r\n",
        "X_test.append(last_60_days_scaled)\r\n",
        "X_test = np.array(X_test)\r\n",
        "X_test = np.reshape(X_test, (X_test.shape[0], X_test.shape[1], 1))\r\n",
        "\r\n",
        "# Get predicted scaled price\r\n",
        "pred_price = model.predict(X_test)\r\n",
        "\r\n",
        "# Undo scaling\r\n",
        "pred_price = scalar.inverse_transform(pred_price)\r\n",
        "\r\n",
        "# Print next day predicted price\r\n",
        "print(pred_price)"
      ],
      "execution_count": 18,
      "outputs": [
        {
          "output_type": "stream",
          "text": [
            "[[118.65749]]\n"
          ],
          "name": "stdout"
        }
      ]
    },
    {
      "cell_type": "markdown",
      "metadata": {
        "id": "Rr1w0aod74OD"
      },
      "source": [
        ""
      ]
    }
  ]
}